{
 "cells": [
  {
   "cell_type": "markdown",
   "metadata": {},
   "source": [
    "# Problema No. 1"
   ]
  },
  {
   "cell_type": "code",
   "execution_count": 25,
   "metadata": {},
   "outputs": [
    {
     "name": "stdout",
     "output_type": "stream",
     "text": [
      "Advertencia!, un asteroide se acerca a 49 km/h\n"
     ]
    }
   ],
   "source": [
    "Asteroide = 49\n",
    "\n",
    "if Asteroide > 25:\n",
    "    print(\"Advertencia!, un asteroide se acerca a\", Asteroide, \"km/h\")\n",
    "else:\n",
    "    print(\"Todo correcto :)\")"
   ]
  },
  {
   "cell_type": "markdown",
   "metadata": {},
   "source": [
    "# Problema No. 2"
   ]
  },
  {
   "cell_type": "code",
   "execution_count": 27,
   "metadata": {},
   "outputs": [
    {
     "name": "stdout",
     "output_type": "stream",
     "text": [
      "No se localizó ningún asteroide\n"
     ]
    }
   ],
   "source": [
    "Asteroide = 19\n",
    "\n",
    "if Asteroide >= 20:\n",
    "    print(\"Se localizó un asteroide!\")\n",
    "else:\n",
    "    print(\"No se localizó ningún asteroide\")"
   ]
  },
  {
   "cell_type": "markdown",
   "metadata": {},
   "source": [
    "# Problema No. 3"
   ]
  },
  {
   "cell_type": "code",
   "execution_count": 38,
   "metadata": {},
   "outputs": [
    {
     "name": "stdout",
     "output_type": "stream",
     "text": [
      "Amenaza!, se acerca un asteroide de 40 m, con una velocidad de 40 km/h\n",
      "La tierra está en peligro!\n"
     ]
    }
   ],
   "source": [
    "Vel_Ast = 40\n",
    "Size_Ast =  40\n",
    "\n",
    "if Vel_Ast > 25 and Size_Ast > 25:\n",
    "    print(\"Amenaza!, se acerca un asteroide de\", Size_Ast, \"m, con una velocidad de\", Vel_Ast, \"km/h\" )\n",
    "    print(\"La tierra está en peligro!\")\n",
    "elif Vel_Ast >= 20: \n",
    "    print(\"Se localizó un asteroide!\")\n",
    "    if Size_Ast < 25:\n",
    "        print(\"No resulta ser una amenaza :)\") \n",
    "else: \n",
    "    print(\"No se localizó ningún asteroide\")"
   ]
  }
 ],
 "metadata": {
  "interpreter": {
   "hash": "33541a670e8887513ebdf0f19cec6625b51694c5ef6b1c7e83282c54d5cd54e5"
  },
  "kernelspec": {
   "display_name": "Python 3.10.2 64-bit",
   "language": "python",
   "name": "python3"
  },
  "language_info": {
   "codemirror_mode": {
    "name": "ipython",
    "version": 3
   },
   "file_extension": ".py",
   "mimetype": "text/x-python",
   "name": "python",
   "nbconvert_exporter": "python",
   "pygments_lexer": "ipython3",
   "version": "3.10.2"
  },
  "orig_nbformat": 4
 },
 "nbformat": 4,
 "nbformat_minor": 2
}
