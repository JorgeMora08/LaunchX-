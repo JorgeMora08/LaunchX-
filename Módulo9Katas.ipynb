{
 "cells": [
  {
   "cell_type": "markdown",
   "metadata": {},
   "source": [
    "# Ejercicio: Uso de funciones en Python\n",
    "Ejercicio 1: Trabajar con argumentos en funciones"
   ]
  },
  {
   "cell_type": "code",
   "execution_count": 11,
   "metadata": {},
   "outputs": [],
   "source": [
    "def tanques(tanque1, tanque2, tanque3):\n",
    "    promedio = (tanque1 + tanque2 + tanque3)/3\n",
    "    return f\"\"\" \n",
    "            Reporte de tanques\n",
    "    -----------------------------------\n",
    "    Total de tanques: {promedio}%\n",
    "    Primer tanque: {tanque1}%\n",
    "    Segundo tanque: {tanque2}%\n",
    "    Tercer tanque: {tanque3}%\n",
    "    \"\"\""
   ]
  },
  {
   "cell_type": "code",
   "execution_count": 12,
   "metadata": {},
   "outputs": [
    {
     "name": "stdout",
     "output_type": "stream",
     "text": [
      " \n",
      "            Reporte de tanques\n",
      "    -----------------------------------\n",
      "    Total de tanques: 74.33333333333333%\n",
      "    Primer tanque: 90%\n",
      "    Segundo tanque: 50%\n",
      "    Tercer tanque: 83%\n",
      "    \n"
     ]
    }
   ],
   "source": [
    "print(tanques(90, 50, 83))"
   ]
  },
  {
   "cell_type": "code",
   "execution_count": 13,
   "metadata": {},
   "outputs": [
    {
     "data": {
      "text/plain": [
       "74.33333333333333"
      ]
     },
     "execution_count": 13,
     "metadata": {},
     "output_type": "execute_result"
    }
   ],
   "source": [
    "def total_prom(x):\n",
    "    total = sum(x)\n",
    "    valores = len(x)\n",
    "    return total / valores\n",
    "\n",
    "total_prom([90, 50, 83])"
   ]
  },
  {
   "cell_type": "code",
   "execution_count": 14,
   "metadata": {},
   "outputs": [],
   "source": [
    "def tanques(tanque1, tanque2, tanque3):\n",
    "    return f\"\"\" \n",
    "            Reporte de tanques\n",
    "    -----------------------------------\n",
    "    Total de tanques: {total_prom([tanque1, tanque2, tanque3])}%\n",
    "    Primer tanque: {tanque1}%\n",
    "    Segundo tanque: {tanque2}%\n",
    "    Tercer tanque: {tanque3}%\n",
    "    \"\"\""
   ]
  },
  {
   "cell_type": "code",
   "execution_count": 15,
   "metadata": {},
   "outputs": [
    {
     "name": "stdout",
     "output_type": "stream",
     "text": [
      " \n",
      "            Reporte de tanques\n",
      "    -----------------------------------\n",
      "    Total de tanques: 74.33333333333333%\n",
      "    Primer tanque: 90%\n",
      "    Segundo tanque: 50%\n",
      "    Tercer tanque: 83%\n",
      "    \n"
     ]
    }
   ],
   "source": [
    "print(tanques(90, 50, 83))"
   ]
  },
  {
   "cell_type": "markdown",
   "metadata": {},
   "source": [
    "# Ejercicio 2: Trabajo con argumentos de palabra clave\n",
    "Ejercicio : Trabajar con argumentos de palabras clave en funciones"
   ]
  },
  {
   "cell_type": "code",
   "execution_count": 19,
   "metadata": {},
   "outputs": [
    {
     "name": "stdout",
     "output_type": "stream",
     "text": [
      " \n",
      "        Reporte de la misión\n",
      "    -----------------------------\n",
      "    Destino: Luna\n",
      "    Tiempo: 53 minutos \n",
      "    Combustible: 54 galones\n",
      "    \n"
     ]
    }
   ],
   "source": [
    "def mision(time, destino, fuel):\n",
    "    return f\"\"\" \n",
    "        Reporte de la misión\n",
    "    -----------------------------\n",
    "    Destino: {destino}\n",
    "    Tiempo: {time} minutos \n",
    "    Combustible: {fuel} galones\n",
    "    \"\"\"\n",
    "print(mision(53, 'Luna', 54))"
   ]
  },
  {
   "cell_type": "code",
   "execution_count": 28,
   "metadata": {},
   "outputs": [
    {
     "name": "stdout",
     "output_type": "stream",
     "text": [
      "\n",
      "           Reporte de la misión\n",
      "    ---------------------------------\n",
      "    Destino: Luna\n",
      "    Total de tiempo: 88 minutes\n",
      "    Combustible: 470\n",
      "    \n"
     ]
    }
   ],
   "source": [
    "def mision(destino, *minutes, **fuel_reservoirs):\n",
    "    return f\"\"\"\n",
    "           Reporte de la misión\n",
    "    ---------------------------------\n",
    "    Destino: {destino}\n",
    "    Total de tiempo: {sum(minutes)} minutes\n",
    "    Combustible: {sum(fuel_reservoirs.values())}\n",
    "    \"\"\"\n",
    "\n",
    "print(mision(\"Luna\", 10, 78, interna=450, externa=20))"
   ]
  },
  {
   "cell_type": "code",
   "execution_count": 31,
   "metadata": {},
   "outputs": [
    {
     "name": "stdout",
     "output_type": "stream",
     "text": [
      "\n",
      "           Reporte de la misión\n",
      "    ---------------------------------\n",
      "    Destino: Luna\n",
      "    Total de tiempo: 88 minutes\n",
      "    Combustible: 470\n",
      "    tanque interna --> 450 gallons left\n",
      "tanque externa --> 20 gallons left\n",
      "\n"
     ]
    }
   ],
   "source": [
    "def mision(destino, *minutes, **fuel_reservoirs):\n",
    "    reporte = f\"\"\"\n",
    "           Reporte de la misión\n",
    "    ---------------------------------\n",
    "    Destino: {destino}\n",
    "    Total de tiempo: {sum(minutes)} minutes\n",
    "    Combustible: {sum(fuel_reservoirs.values())}\n",
    "    \"\"\"\n",
    "    for tanque, gallones in fuel_reservoirs.items():\n",
    "        reporte += f\"tanque {tanque} --> {gallones} gallons left\\n\"\n",
    "    return reporte\n",
    "\n",
    "print(mision(\"Luna\", 10, 78, interna=450, externa=20))"
   ]
  }
 ],
 "metadata": {
  "interpreter": {
   "hash": "33541a670e8887513ebdf0f19cec6625b51694c5ef6b1c7e83282c54d5cd54e5"
  },
  "kernelspec": {
   "display_name": "Python 3.10.2 64-bit",
   "language": "python",
   "name": "python3"
  },
  "language_info": {
   "codemirror_mode": {
    "name": "ipython",
    "version": 3
   },
   "file_extension": ".py",
   "mimetype": "text/x-python",
   "name": "python",
   "nbconvert_exporter": "python",
   "pygments_lexer": "ipython3",
   "version": "3.10.2"
  },
  "orig_nbformat": 4
 },
 "nbformat": 4,
 "nbformat_minor": 2
}
