{
 "cells": [
  {
   "cell_type": "markdown",
   "metadata": {},
   "source": [
    "# Ejercicio1 - Utilizar operadores aritméticos"
   ]
  },
  {
   "cell_type": "code",
   "execution_count": 11,
   "metadata": {},
   "outputs": [
    {
     "name": "stdout",
     "output_type": "stream",
     "text": [
      "Distancia en kilómetros:  628949330 Km\n",
      "Distancia en millas:  390577534 millas\n"
     ]
    }
   ],
   "source": [
    "dis_tierra = 149597870\n",
    "dis_jupiter = 778547200\n",
    "\n",
    "tierra_km = (dis_jupiter - dis_tierra)\n",
    "print('Distancia en kilómetros: ', tierra_km, 'Km')\n",
    "\n",
    "tierra_mill = round((tierra_km)*0.621)\n",
    "print('Distancia en millas: ', tierra_mill, 'millas')"
   ]
  },
  {
   "cell_type": "markdown",
   "metadata": {},
   "source": [
    "# Ejercicio 2: convierte cadenas en números y usa valores absolutos"
   ]
  },
  {
   "cell_type": "code",
   "execution_count": 14,
   "metadata": {},
   "outputs": [
    {
     "name": "stdout",
     "output_type": "stream",
     "text": [
      "Distancia en kilómetros:  1375600000 km\n",
      "Distancia en millas:  854247600.0 millas\n"
     ]
    }
   ],
   "source": [
    "Primer_planeta = input(\"Agrega la distancia del primer planeta en km: \")\n",
    "segundo_planeta = input(\"Agrega la distancia del segundo planeta en km: \")\n",
    "\n",
    "Primer_planeta = int(Primer_planeta)\n",
    "segundo_planeta = int(segundo_planeta)\n",
    "\n",
    "km = abs(segundo_planeta - Primer_planeta)\n",
    "print('Distancia en kilómetros: ', km, 'km')\n",
    "\n",
    "mill = abs(km * 0.621)\n",
    "print('Distancia en millas: ', mill, 'millas')\n",
    "\n"
   ]
  }
 ],
 "metadata": {
  "interpreter": {
   "hash": "33541a670e8887513ebdf0f19cec6625b51694c5ef6b1c7e83282c54d5cd54e5"
  },
  "kernelspec": {
   "display_name": "Python 3.10.2 64-bit",
   "language": "python",
   "name": "python3"
  },
  "language_info": {
   "codemirror_mode": {
    "name": "ipython",
    "version": 3
   },
   "file_extension": ".py",
   "mimetype": "text/x-python",
   "name": "python",
   "nbconvert_exporter": "python",
   "pygments_lexer": "ipython3",
   "version": "3.10.2"
  },
  "orig_nbformat": 4
 },
 "nbformat": 4,
 "nbformat_minor": 2
}
